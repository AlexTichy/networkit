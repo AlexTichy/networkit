{
 "cells": [
  {
   "cell_type": "code",
   "execution_count": 9,
   "metadata": {
    "collapsed": true
   },
   "outputs": [],
   "source": [
    "%matplotlib inline"
   ]
  },
  {
   "cell_type": "code",
   "execution_count": 10,
   "metadata": {
    "collapsed": false
   },
   "outputs": [],
   "source": [
    "from networkit import *"
   ]
  },
  {
   "cell_type": "code",
   "execution_count": 11,
   "metadata": {
    "collapsed": false
   },
   "outputs": [
    {
     "data": {
      "text/plain": [
       "False"
      ]
     },
     "execution_count": 11,
     "metadata": {},
     "output_type": "execute_result"
    }
   ],
   "source": [
    "G = readGraph(\"/Users/cls/workspace/NetworKit/input/PGPgiantcompo.graph\", Format.METIS)\n",
    "G.isDirected()"
   ]
  },
  {
   "cell_type": "code",
   "execution_count": 12,
   "metadata": {
    "collapsed": false
   },
   "outputs": [
    {
     "data": {
      "text/plain": [
       "(True, 0, '')"
      ]
     },
     "execution_count": 12,
     "metadata": {},
     "output_type": "execute_result"
    }
   ],
   "source": [
    "profiling.Profile.setVerbose(True, level=0)\n",
    "profiling.Profile.getVerbose()"
   ]
  },
  {
   "cell_type": "code",
   "execution_count": 13,
   "metadata": {
    "collapsed": false
   },
   "outputs": [
    {
     "data": {
      "text/plain": [
       "64"
      ]
     },
     "execution_count": 13,
     "metadata": {},
     "output_type": "execute_result"
    }
   ],
   "source": [
    "profiling.Profile.setParallel(64)\n",
    "profiling.Profile.getParallel()"
   ]
  },
  {
   "cell_type": "code",
   "execution_count": 15,
   "metadata": {
    "collapsed": true
   },
   "outputs": [],
   "source": [
    "config = profiling.Profile.\n",
    "config.setProperty(\"Diameter\")\n",
    "config.setMeasure(\"Centrality.Degree\")\n",
    "config.setMeasure(\"Centrality.Katz\")\n",
    "config.setMeasureCorrelation(\"Spearman\")"
   ]
  },
  {
   "cell_type": "code",
   "execution_count": 16,
   "metadata": {
    "collapsed": false
   },
   "outputs": [
    {
     "name": "stdout",
     "output_type": "stream",
     "text": [
      "Diameter: 0.01 s\n",
      "\n",
      "Centrality.Degree: 0.00 s\n",
      "    Sort: 0.00 s\n",
      "    Rank: 0.03 s\n",
      "    Assortativity: 0.00 s\n",
      "    Centralization: 0.00 s\n",
      "Centrality.Katz: 0.16 s\n",
      "    Sort: 0.00 s\n",
      "    Rank: 0.04 s\n",
      "    Assortativity: 0.01 s\n",
      "    Centralization: Centrality.centralization not properly defined for Centrality.Katz. 0.01 s\n",
      "\n",
      "....\n",
      "\n",
      "total time (measures + stats + correlations): 1.24 s\n",
      "total speed: 19577.8 edges/s\n"
     ]
    }
   ],
   "source": [
    "pf = profiling.Profile.create(G, config=config)"
   ]
  },
  {
   "cell_type": "code",
   "execution_count": 7,
   "metadata": {
    "collapsed": false
   },
   "outputs": [
    {
     "data": {
      "text/html": [
       "<div class=\"NetworKit_Page\" id=\"NetworKit_Page_0\">\n",
       "\t<div class=\"Category\" data-title=\"Network Properties\">\n",
       "\t\t<div class=\"Value\" data-title=\"Name\">PGPgiantcompo</div>\n",
       "\t\t<div class=\"Value\" data-title=\"Nodes\">10680</div>\n",
       "\t\t<div class=\"Value\" data-title=\"Edges\">24316</div>\n",
       "\t\t<div class=\"Value\" data-title=\"Density\">0.000426403</div>\n",
       "\t\t<div class=\"Value\" data-title=\"Directed\">False</div>\n",
       "\t\t<div class=\"Value\" data-title=\"Weighted\">False</div>\n",
       "\t\t<div class=\"Value\" data-title=\"Self Loops\">0</div>\n",
       "\t\t<div class=\"Value\" data-title=\"Diameter Range\">N/A</div>\n",
       "\t</div>\n",
       "\t<div class=\"Category\" data-title=\"Overview\">\n",
       "\t\t<div class=\"Block SubCategory\" data-title=\"Node Centrality Measures\">\n",
       "\t\t\t\n",
       "\t\t</div>\n",
       "\t\t<div class=\"Block SubCategory\" data-title=\"Partions\">\n",
       "\t\t\t\n",
       "\t\t</div>\n",
       "\t</div>\n",
       "\t<div class=\"Category\" data-title=\"Node Centrality Measures\">\n",
       "\t\t\n",
       "\t\t<div class=\"Block SubCategory\" data-title=\"Node Centrality Correlations\">\n",
       "\t\t\t\n",
       "\t\t\t\n",
       "\t\t</div>\n",
       "\t</div>\n",
       "\t<div class=\"Category\" data-title=\"Partitions\">\n",
       "\t\t\n",
       "\t</div>\n",
       "</div>\n",
       "\n",
       "<script language=\"javascript\" type=\"text/javascript\">\n",
       "\tNetworKit_pageEmbed(\"NetworKit_Page_0\");\n",
       "</script>\n"
      ]
     },
     "metadata": {},
     "output_type": "display_data"
    }
   ],
   "source": [
    "pf.show(\n",
    "    style = \"light\",\n",
    "    color = (0.501, 0, 0)\n",
    ")"
   ]
  },
  {
   "cell_type": "code",
   "execution_count": 8,
   "metadata": {
    "collapsed": false
   },
   "outputs": [],
   "source": [
    "pf.output(type=\"HTML\", directory=\"/Users/cls/Downloads/\")"
   ]
  },
  {
   "cell_type": "code",
   "execution_count": null,
   "metadata": {
    "collapsed": false
   },
   "outputs": [],
   "source": []
  }
 ],
 "metadata": {
  "kernelspec": {
   "display_name": "Python 3",
   "language": "python",
   "name": "python3"
  },
  "language_info": {
   "codemirror_mode": {
    "name": "ipython",
    "version": 3
   },
   "file_extension": ".py",
   "mimetype": "text/x-python",
   "name": "python",
   "nbconvert_exporter": "python",
   "pygments_lexer": "ipython3",
   "version": "3.4.3"
  }
 },
 "nbformat": 4,
 "nbformat_minor": 0
}
