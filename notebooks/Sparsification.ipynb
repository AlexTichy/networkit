{
 "cells": [
  {
   "cell_type": "markdown",
   "metadata": {},
   "source": [
    "# NetworKit Sparsification Tutorial"
   ]
  },
  {
   "cell_type": "markdown",
   "metadata": {},
   "source": [
    "The sparsification module has algorithms that compute edge scores, and algorithms that sparsify an input graph. In this notebook the usage of both categories of algorithms shall be demonstrated.\n",
    "\n",
    "All sparsification algorithims rely on edge scores, thus the edges of the graph need to be indexed. Call the [indexEdges()](https://networkit.github.io/dev-docs/python_api/networkit.html?highlight=indexedges#networkit.Graph.indexEdges) method if the edges of your graph are not indexed.The `scores()` method that can be called after running an edge scores algorithm returns an edge attribute that holds for each edge the maximum parameter value such that the edge is contained in the sparsified graph.\n",
    "\n",
    "The [getSparsifiedGraph(G, parameter, attribute)](https://networkit.github.io/dev-docs/python_api/sparsification.html?highlight=getsparsif#networkit.sparsification.Sparsifier.getSparsifiedGraph) or [getSparsifiedGraphOfSize(G, edgeRatio, attribute)](https://networkit.github.io/dev-docs/python_api/sparsification.html?highlight=getsparsif#networkit.sparsification.Sparsifier.getSparsifiedGraphOfSize) methods can be used after running a sparsification algorithm to obtain the sparsified graph. `parameter` is a parameter value that determines the degree of sparsification attribute while `edgeRatio` is the target edge ratio of the specified graph. `attribute` is an optional parameter and a previously calculated edge attribute. If none is provided, one will try to be calculated."
   ]
  },
  {
   "cell_type": "code",
   "execution_count": null,
   "metadata": {
    "scrolled": false
   },
   "outputs": [],
   "source": [
    "import networkit as nk"
   ]
  },
  {
   "cell_type": "code",
   "execution_count": null,
   "metadata": {
    "scrolled": false
   },
   "outputs": [],
   "source": [
    "G = nk.readGraph(\"../input/jazz.graph\", nk.Format.METIS)\n",
    "G.indexEdges()\n",
    "G.numberOfEdges()"
   ]
  },
  {
   "cell_type": "markdown",
   "metadata": {},
   "source": [
    "We shall pass the same `edgeRatio` to all sparsifiers. As a result, all sparsified graphs should be approximately the same size regardless of the sparsification method that we use."
   ]
  },
  {
   "cell_type": "code",
   "execution_count": null,
   "metadata": {},
   "outputs": [],
   "source": [
    "targetRatio = 0.2"
   ]
  },
  {
   "cell_type": "markdown",
   "metadata": {},
   "source": [
    "## Forest Fire "
   ]
  },
  {
   "cell_type": "markdown",
   "metadata": {},
   "source": [
    "The Forest Fire sparsifier implements a variant of the Forest Fire sparsification approach that is based on random walks."
   ]
  },
  {
   "cell_type": "markdown",
   "metadata": {},
   "source": [
    "### Edge Scores"
   ]
  },
  {
   "cell_type": "markdown",
   "metadata": {},
   "source": [
    "The [ForestFireScore(G, pf, tebr)]() constructor expects a graph, the probability `pf` that the neighbor nodes will burn as well, and the target burn ratio which states that forest fire will burn until `tebr` * numberOfEdges edges have been burnt."
   ]
  },
  {
   "cell_type": "code",
   "execution_count": null,
   "metadata": {
    "scrolled": false
   },
   "outputs": [],
   "source": [
    "# Initialize\n",
    "ffs = nk.sparsification.ForestFireScore(G, 0.6, 5.0)\n",
    "# Run\n",
    "ffs.run()\n",
    "# Get edge scores\n",
    "attributes = ffs.scores()\n",
    "print(attributes[:10])"
   ]
  },
  {
   "cell_type": "markdown",
   "metadata": {},
   "source": [
    "### Sparsification"
   ]
  },
  {
   "cell_type": "markdown",
   "metadata": {},
   "source": [
    "The [ForestFireSparsifier(burnProbability, targetBurntRatio)]() constructor expects the probability `burnProbability` that the neighbor nodes will burn as well and the target burn ratio which states that forest fire will burn until `targetBurntRatio` * numberOfEdges edges have been burnt."
   ]
  },
  {
   "cell_type": "code",
   "execution_count": null,
   "metadata": {},
   "outputs": [],
   "source": [
    "# Initialize\n",
    "fireSparsifier = nk.sparsification.ForestFireSparsifier(0.6, 5.0)\n",
    "# Get sparsified graph\n",
    "fireGraph = fireSparsifier.getSparsifiedGraphOfSize(G, targetRatio)\n",
    "# Compare graphs\n",
    "print(G.numberOfEdges(), fireGraph.numberOfEdges())"
   ]
  },
  {
   "cell_type": "markdown",
   "metadata": {},
   "source": [
    "## Global Threshold Filter "
   ]
  },
  {
   "cell_type": "markdown",
   "metadata": {},
   "source": [
    "The Global Threshold Filter calculates a sparsified graph by filtering globally using a constant threshold value and a given edge attribute.\n",
    "\n",
    "The [GlobalThresholdFilter(G, attribute, e, above)](https://networkit.github.io/dev-docs/python_api/sparsification.html?highlight=globalth#networkit.sparsification.GlobalThresholdFilter) constructor expects a graph, a list of edge attributes, a threshold value `e` and a Boolean value `above`. If above is set to true, all edges with an attribute value equal to or above will be kept in the sparsified graph. The `calculate` methode returns the sparsified graph."
   ]
  },
  {
   "cell_type": "markdown",
   "metadata": {},
   "source": [
    "### Sparsification"
   ]
  },
  {
   "cell_type": "code",
   "execution_count": null,
   "metadata": {
    "scrolled": false
   },
   "outputs": [],
   "source": [
    "# Initialize\n",
    "gtf = nk.sparsification.GlobalThresholdFilter(G, attributes, 0.2, False)\n",
    "# Run\n",
    "newG = gtf.calculate()\n",
    "print(G.numberOfEdges(), newG.numberOfEdges())"
   ]
  },
  {
   "cell_type": "markdown",
   "metadata": {},
   "source": [
    "## Local Degree"
   ]
  },
  {
   "cell_type": "markdown",
   "metadata": {},
   "source": [
    "The LocalDegree sparsification approach is based on the idea of hub nodes. This attributizer calculates for each edge the maximum parameter value such that the edge is still contained in the sparsified graph."
   ]
  },
  {
   "cell_type": "markdown",
   "metadata": {},
   "source": [
    "### Edge Scores"
   ]
  },
  {
   "cell_type": "markdown",
   "metadata": {},
   "source": [
    "The [LocalDegreeScore(G)](https://networkit.github.io/dev-docs/python_api/sparsification.html?highlight=local%20degree#networkit.sparsification.LocalDegreeScore) constructor expects a graph."
   ]
  },
  {
   "cell_type": "code",
   "execution_count": null,
   "metadata": {
    "scrolled": false
   },
   "outputs": [],
   "source": [
    "# Initialize\n",
    "lds = nk.sparsification.LocalDegreeScore(G)\n",
    "# Run\n",
    "lds.run()\n",
    "# Get edge scores\n",
    "ldsScores = lds.scores()\n",
    "print(ldsScores[:10])"
   ]
  },
  {
   "cell_type": "markdown",
   "metadata": {
    "scrolled": false
   },
   "source": [
    "### Sparsification"
   ]
  },
  {
   "cell_type": "code",
   "execution_count": null,
   "metadata": {
    "scrolled": false
   },
   "outputs": [],
   "source": [
    "# Initialize\n",
    "localDegSparsifier = nk.sparsification.LocalDegreeSparsifier()\n",
    "# Get sparsified graph\n",
    "localDegGraph = localDegSparsifier.getSparsifiedGraphOfSize(G, targetRatio)\n",
    "# Compare graphs\n",
    "print(G.numberOfEdges(), localDegGraph.numberOfEdges())"
   ]
  },
  {
   "cell_type": "markdown",
   "metadata": {},
   "source": [
    "## Local Similarity"
   ]
  },
  {
   "cell_type": "markdown",
   "metadata": {},
   "source": [
    "This attributizer calculates for each edge the maximum parameter value such that the edge is still contained in the sparsified graph."
   ]
  },
  {
   "cell_type": "markdown",
   "metadata": {},
   "source": [
    "### Edge Scores"
   ]
  },
  {
   "cell_type": "markdown",
   "metadata": {},
   "source": [
    "The [LocalSimilarityScore(G, triangles)](https://networkit.github.io/dev-docs/python_api/sparsification.html?highlight=local#networkit.sparsification.LocalSimilarityScore) constructor expects a graph and  previously calculated edge triangle counts of the graph. \n",
    "\n",
    "The edge triangles in the graph can be computed using the [TriangleEdgeScore(G)](https://networkit.github.io/dev-docs/python_api/sparsification.html?highlight=triangle#networkit.sparsification.TriangleEdgeScore) algorithm."
   ]
  },
  {
   "cell_type": "code",
   "execution_count": null,
   "metadata": {
    "scrolled": false
   },
   "outputs": [],
   "source": [
    "# Compute triangles in G\n",
    "tes = nk.sparsification.TriangleEdgeScore(G)\n",
    "tes.run()\n",
    "triangles = tes.scores()"
   ]
  },
  {
   "cell_type": "code",
   "execution_count": null,
   "metadata": {
    "scrolled": true
   },
   "outputs": [],
   "source": [
    "# Compute Local Similarity Score\n",
    "lss = nk.sparsification.LocalSimilarityScore(G, triangles)\n",
    "# Run\n",
    "lss.run()\n",
    "# Get edge scores\n",
    "lss.scores()[:10]"
   ]
  },
  {
   "cell_type": "markdown",
   "metadata": {
    "scrolled": true
   },
   "source": [
    "### Sparsification"
   ]
  },
  {
   "cell_type": "code",
   "execution_count": null,
   "metadata": {
    "scrolled": true
   },
   "outputs": [],
   "source": [
    "# Initialize\n",
    "similaritySparsifier = nk.sparsification.LocalSimilaritySparsifier()\n",
    "# Get sparsified graph\n",
    "similarityGraph = similaritySparsifier.getSparsifiedGraphOfSize(G, targetRatio)\n",
    "# Compare graphs\n",
    "print(G.numberOfEdges(), similarityGraph.numberOfEdges())"
   ]
  },
  {
   "cell_type": "markdown",
   "metadata": {},
   "source": [
    "## Random Edge Score"
   ]
  },
  {
   "cell_type": "markdown",
   "metadata": {},
   "source": [
    "This attributizer generates a random edge attribute. Each edge is assigned a random value in [0,1]."
   ]
  },
  {
   "cell_type": "markdown",
   "metadata": {},
   "source": [
    "### Edge Scores"
   ]
  },
  {
   "cell_type": "markdown",
   "metadata": {},
   "source": [
    "The [RandomEdgeScore(G)](https://networkit.github.io/dev-docs/python_api/sparsification.html?highlight=randomedge#networkit.sparsification.RandomEdgeScore) constructor expects a graph."
   ]
  },
  {
   "cell_type": "code",
   "execution_count": null,
   "metadata": {},
   "outputs": [],
   "source": [
    "# Initialize\n",
    "res = nk.sparsification.RandomEdgeScore(G)\n",
    "# Run\n",
    "res.run()\n",
    "# Get edge scores\n",
    "randomEdgeScores = res.scores()\n",
    "print(randomEdgeScores[:10])"
   ]
  },
  {
   "cell_type": "markdown",
   "metadata": {
    "scrolled": true
   },
   "source": [
    "### Sparsification"
   ]
  },
  {
   "cell_type": "code",
   "execution_count": null,
   "metadata": {},
   "outputs": [],
   "source": [
    "# Initialize\n",
    "randomEdgeSparsifier = nk.sparsification.RandomEdgeSparsifier()\n",
    "# Get sparsified graph\n",
    "randomGraph = randomEdgeSparsifier.getSparsifiedGraphOfSize(G, targetRatio)\n",
    "# Compare graphs\n",
    "print(G.numberOfEdges(), randomGraph.numberOfEdges())"
   ]
  },
  {
   "cell_type": "markdown",
   "metadata": {},
   "source": [
    "## Random Node Edge Score"
   ]
  },
  {
   "cell_type": "markdown",
   "metadata": {},
   "source": [
    "This attributizer returns edge attributes where each value is selected uniformly at random from [0,1]."
   ]
  },
  {
   "cell_type": "markdown",
   "metadata": {},
   "source": [
    "### Edge Scores"
   ]
  },
  {
   "cell_type": "markdown",
   "metadata": {},
   "source": [
    "The [RandomNodeEdgeScore(G)](https://networkit.github.io/dev-docs/python_api/sparsification.html?highlight=randomnode#networkit.sparsification.RandomNodeEdgeScore) constructor expects a graph."
   ]
  },
  {
   "cell_type": "code",
   "execution_count": null,
   "metadata": {},
   "outputs": [],
   "source": [
    "# Initialize\n",
    "rn = nk.sparsification.RandomNodeEdgeScore(G)\n",
    "# Run\n",
    "rn.run()\n",
    "# Get edge scores\n",
    "randomNodeScores = rn.scores()\n",
    "print(randomNodeScores[:10])"
   ]
  },
  {
   "cell_type": "markdown",
   "metadata": {},
   "source": [
    "### Sparsification"
   ]
  },
  {
   "cell_type": "code",
   "execution_count": null,
   "metadata": {},
   "outputs": [],
   "source": [
    "# Initialize\n",
    "randomNodeEdgeSparsifier = nk.sparsification.RandomNodeEdgeSparsifier()\n",
    "# Get sparsified graph\n",
    "randomNodeGraph = randomNodeEdgeSparsifier.getSparsifiedGraphOfSize(G, targetRatio)\n",
    "# Compare graphs\n",
    "print(G.numberOfEdges(), randomNodeGraph.numberOfEdges())"
   ]
  },
  {
   "cell_type": "markdown",
   "metadata": {},
   "source": [
    "## SCAN Structural Similarity Score"
   ]
  },
  {
   "cell_type": "markdown",
   "metadata": {},
   "source": [
    "This algorithm is a Structural Clustering Algorithm for Networks (SCAN) whose goal is to find  clusters,  hubs,  and  outliers  in  large  networks."
   ]
  },
  {
   "cell_type": "markdown",
   "metadata": {},
   "source": [
    "### Edge Scores"
   ]
  },
  {
   "cell_type": "markdown",
   "metadata": {},
   "source": [
    "The [SCANStructuralSimilarityScore(G, triangles)](https://networkit.github.io/dev-docs/python_api/sparsification.html?highlight=scan#networkit.sparsification.SCANStructuralSimilarityScore) constructor expects a graph and previously calculated edge triangle counts of the graph."
   ]
  },
  {
   "cell_type": "code",
   "execution_count": null,
   "metadata": {},
   "outputs": [],
   "source": [
    "# Initialize\n",
    "scan = nk.sparsification.SCANStructuralSimilarityScore(G, triangles)\n",
    "# Run\n",
    "scan.run()\n",
    "# Get edge scores\n",
    "scanScores = scan.scores()\n",
    "print(scanScores[:10])"
   ]
  },
  {
   "cell_type": "markdown",
   "metadata": {},
   "source": [
    "### Sparsification"
   ]
  },
  {
   "cell_type": "code",
   "execution_count": null,
   "metadata": {},
   "outputs": [],
   "source": [
    "# Initialize\n",
    "scanSparsifier = nk.sparsification.SCANSparsifier()\n",
    "# Get sparsified graph\n",
    "scanGraph = scanSparsifier.getSparsifiedGraphOfSize(G, targetRatio)\n",
    "# Compare graphs\n",
    "print(G.numberOfEdges(), scanGraph.numberOfEdges())"
   ]
  },
  {
   "cell_type": "markdown",
   "metadata": {},
   "source": [
    "## Simmelian Overlap Score"
   ]
  },
  {
   "cell_type": "markdown",
   "metadata": {},
   "source": [
    "This is an implementation of the parametric variant of Simmelian Backbones. It calculates for each edge the minimum parameter value such that the edge is still contained in the sparsified graph. "
   ]
  },
  {
   "cell_type": "markdown",
   "metadata": {},
   "source": [
    "### Edge Scores"
   ]
  },
  {
   "cell_type": "markdown",
   "metadata": {},
   "source": [
    "The [SimmelianOverlapScore(G, triangles, maxRank)](https://networkit.github.io/dev-docs/python_api/sparsification.html?highlight=simmelian#networkit.sparsification.SimmelianOverlapScore) constructor expects a graph, triangles and the maximum rank that is considered for overlap calculation."
   ]
  },
  {
   "cell_type": "code",
   "execution_count": null,
   "metadata": {},
   "outputs": [],
   "source": [
    "# Initialize\n",
    "sos = nk.sparsification.SimmelianOverlapScore(G, triangles, 5)\n",
    "# Run\n",
    "sos.run()\n",
    "sosScores = sos.scores()\n",
    "print(sosScores[:10])"
   ]
  },
  {
   "cell_type": "markdown",
   "metadata": {},
   "source": [
    "### Sparsification"
   ]
  },
  {
   "cell_type": "code",
   "execution_count": null,
   "metadata": {},
   "outputs": [],
   "source": [
    "# Initialize\n",
    "simmelianSparsifier = nk.sparsification.SimmelianSparsifierNonParametric()\n",
    "# Get sparsified graph\n",
    "simmelieanGraph = simmelianSparsifier.getSparsifiedGraphOfSize(G, targetRatio)\n",
    "# Compare graphs\n",
    "print(G.numberOfEdges(), simmelieanGraph.numberOfEdges())"
   ]
  }
 ],
 "metadata": {
  "kernelspec": {
   "display_name": "Python 3",
   "language": "python",
   "name": "python3"
  },
  "language_info": {
   "codemirror_mode": {
    "name": "ipython",
    "version": 3
   },
   "file_extension": ".py",
   "mimetype": "text/x-python",
   "name": "python",
   "nbconvert_exporter": "python",
   "pygments_lexer": "ipython3",
   "version": "3.7.4"
  }
 },
 "nbformat": 4,
 "nbformat_minor": 2
}
